{
 "cells": [
  {
   "cell_type": "code",
   "execution_count": 1,
   "id": "203d8a2b-9396-4d9a-b731-c8c3414a0b35",
   "metadata": {
    "collapsed": true,
    "jupyter": {
     "outputs_hidden": true
    },
    "tags": []
   },
   "outputs": [
    {
     "name": "stderr",
     "output_type": "stream",
     "text": [
      "Loading required package: GenomicRanges\n",
      "Loading required package: stats4\n",
      "Loading required package: BiocGenerics\n",
      "Loading required package: parallel\n",
      "\n",
      "Attaching package: 'BiocGenerics'\n",
      "\n",
      "The following objects are masked from 'package:parallel':\n",
      "\n",
      "    clusterApply, clusterApplyLB, clusterCall, clusterEvalQ,\n",
      "    clusterExport, clusterMap, parApply, parCapply, parLapply,\n",
      "    parLapplyLB, parRapply, parSapply, parSapplyLB\n",
      "\n",
      "The following objects are masked from 'package:stats':\n",
      "\n",
      "    IQR, mad, sd, var, xtabs\n",
      "\n",
      "The following objects are masked from 'package:base':\n",
      "\n",
      "    anyDuplicated, append, as.data.frame, basename, cbind, colMeans,\n",
      "    colnames, colSums, dirname, do.call, duplicated, eval, evalq,\n",
      "    Filter, Find, get, grep, grepl, intersect, is.unsorted, lapply,\n",
      "    lengths, Map, mapply, match, mget, order, paste, pmax, pmax.int,\n",
      "    pmin, pmin.int, Position, rank, rbind, Reduce, rowMeans, rownames,\n",
      "    rowSums, sapply, setdiff, sort, table, tapply, union, unique,\n",
      "    unsplit, which, which.max, which.min\n",
      "\n",
      "Loading required package: S4Vectors\n",
      "\n",
      "Attaching package: 'S4Vectors'\n",
      "\n",
      "The following object is masked from 'package:base':\n",
      "\n",
      "    expand.grid\n",
      "\n",
      "Loading required package: IRanges\n",
      "Loading required package: GenomeInfoDb\n",
      "Warning message:\n",
      "\"no function found corresponding to methods exports from 'GenomicAlignments' for: 'concatenateObjects'\"── Attaching packages ─────────────────────────────────────── tidyverse 1.2.1 ──\n",
      "✔ ggplot2 3.3.2     ✔ purrr   0.3.4\n",
      "✔ tibble  3.1.1     ✔ dplyr   1.0.5\n",
      "✔ tidyr   1.1.3     ✔ stringr 1.4.0\n",
      "✔ readr   1.3.1     ✔ forcats 0.4.0\n",
      "── Conflicts ────────────────────────────────────────── tidyverse_conflicts() ──\n",
      "✖ dplyr::collapse()   masks IRanges::collapse()\n",
      "✖ dplyr::combine()    masks BiocGenerics::combine()\n",
      "✖ dplyr::desc()       masks IRanges::desc()\n",
      "✖ tidyr::expand()     masks S4Vectors::expand()\n",
      "✖ dplyr::filter()     masks stats::filter()\n",
      "✖ dplyr::first()      masks S4Vectors::first()\n",
      "✖ dplyr::lag()        masks stats::lag()\n",
      "✖ ggplot2::Position() masks BiocGenerics::Position(), base::Position()\n",
      "✖ purrr::reduce()     masks GenomicRanges::reduce(), IRanges::reduce()\n",
      "✖ dplyr::rename()     masks S4Vectors::rename()\n",
      "✖ dplyr::select()     masks methylKit::select()\n",
      "✖ dplyr::slice()      masks IRanges::slice()\n",
      "✖ tidyr::unite()      masks methylKit::unite()\n"
     ]
    }
   ],
   "source": [
    "library(methylKit)\n",
    "library(tidyverse)\n",
    "\n",
    "setwd(\"/workspace/cfngle/raw-data/\")"
   ]
  },
  {
   "cell_type": "code",
   "execution_count": 2,
   "id": "7d8f99e0-c117-4ab2-9a81-ab803a4619ce",
   "metadata": {
    "tags": []
   },
   "outputs": [],
   "source": [
    "ZF_file_names <- list.files(\"ZF/008.methylkit_BM_local/\", pattern = \"*.txt\")\n",
    "ZF_sample_names <- as.list(substr(ZF_file_names, start = 1, stop = 6))\n",
    "ZF_file_names <- as.list(paste0(\"ZF/008.methylkit_BM_local/\", ZF_file_names))\n",
    "ZF_treatment <- c(rep(c(0, 1), length.out = length(ZF_file_names)))\n",
    "methyl_data_ZF <- methRead(ZF_file_names,\n",
    "                            sample.id = ZF_sample_names,\n",
    "                            assembly=\"GRCz11\",\n",
    "                            header=TRUE, mincov = 1,\n",
    "                            treatment = ZF_treatment)"
   ]
  },
  {
   "cell_type": "code",
   "execution_count": 4,
   "id": "b9256dce-3a46-4931-bdd6-7b2626343869",
   "metadata": {
    "tags": []
   },
   "outputs": [],
   "source": [
    "save(methyl_data_ZF, file =\"/workspace/cfngle/results-data/03_extracted_methyl/methyl_data_ZF_bt2_local.RData\")"
   ]
  },
  {
   "cell_type": "code",
   "execution_count": 13,
   "id": "0b177615-936e-4386-b732-a709cc840a44",
   "metadata": {
    "tags": []
   },
   "outputs": [],
   "source": [
    "JM_file_names <- list.files(\"JM/008.methylkit_BM_local/\", pattern = \"*.txt\")\n",
    "JM_sample_names <- as.list(substr(JM_file_names, start = 1, stop = 6))\n",
    "JM_file_names <- as.list(paste0(\"JM/008.methylkit_BM_local/\", JM_file_names))\n",
    "JM_treatment <- c(rep(c(0, 1), length.out = length(JM_file_names)))\n",
    "methyl_data_JM <- methRead(JM_file_names,\n",
    "                            sample.id = JM_sample_names,\n",
    "                            assembly=\"ASM223467v1\",\n",
    "                            header=TRUE, mincov = 1,\n",
    "                            treatment = JM_treatment)"
   ]
  },
  {
   "cell_type": "code",
   "execution_count": 14,
   "id": "96330d24-b8b5-4b09-b94f-c03f2a62bb9e",
   "metadata": {},
   "outputs": [],
   "source": [
    "save(methyl_data_JM, file = \"/workspace/cfngle/results-data/03_extracted_methyl/methyl_data_JM_bt2_local.RData\")"
   ]
  }
 ],
 "metadata": {
  "kernelspec": {
   "display_name": "R-3.5.0",
   "language": "R",
   "name": "ir3.5.0"
  },
  "language_info": {
   "codemirror_mode": "r",
   "file_extension": ".r",
   "mimetype": "text/x-r-source",
   "name": "R",
   "pygments_lexer": "r",
   "version": "3.5.0"
  }
 },
 "nbformat": 4,
 "nbformat_minor": 5
}
