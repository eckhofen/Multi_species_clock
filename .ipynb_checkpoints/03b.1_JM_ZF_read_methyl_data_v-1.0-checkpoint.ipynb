{
 "cells": [
  {
   "cell_type": "code",
   "execution_count": 12,
   "id": "203d8a2b-9396-4d9a-b731-c8c3414a0b35",
   "metadata": {
    "tags": []
   },
   "outputs": [],
   "source": [
    "library(methylKit)\n",
    "library(tidyverse)\n",
    "\n",
    "setwd(\"/workspace/cfngle/raw-data/\")"
   ]
  },
  {
   "cell_type": "code",
   "execution_count": 4,
   "id": "7d8f99e0-c117-4ab2-9a81-ab803a4619ce",
   "metadata": {
    "collapsed": true,
    "jupyter": {
     "outputs_hidden": true
    },
    "tags": []
   },
   "outputs": [
    {
     "name": "stderr",
     "output_type": "stream",
     "text": [
      "Received list of locations.\n",
      "\n"
     ]
    },
    {
     "ename": "ERROR",
     "evalue": "Error in methRead(ZF_file_names, sample.id = ZF_sample_names, assembly = \"GRCz11\", : length of 'location'  and 'name' should be same\n\n",
     "output_type": "error",
     "traceback": [
      "Error in methRead(ZF_file_names, sample.id = ZF_sample_names, assembly = \"GRCz11\", : length of 'location'  and 'name' should be same\n\nTraceback:\n",
      "1. methRead(ZF_file_names, sample.id = ZF_sample_names, assembly = \"GRCz11\", \n .     header = TRUE, mincov = 1, treatment = ZF_treatment)",
      "2. methRead(ZF_file_names, sample.id = ZF_sample_names, assembly = \"GRCz11\", \n .     header = TRUE, mincov = 1, treatment = ZF_treatment)",
      "3. stop(\"length of 'location'  and 'name' should be same\\n\")"
     ]
    }
   ],
   "source": [
    "ZF_file_names <- list.files(\"ZF/008.methylkit_BM_local/\", pattern = \"*.txt\")\n",
    "ZF_sample_names <- as.list(substr(ZF_file_names, start = 1, stop = 6))\n",
    "ZF_file_names <- as.list(paste0(\"ZF/008.methylkit_BM_local/\", ZF_file_names))\n",
    "ZF_treatment <- c(rep(c(0, 1), length.out = length(ZF_file_names)))\n",
    "methyl_data_ZF <- methRead(ZF_file_names,\n",
    "                            sample.id = ZF_sample_names,\n",
    "                            assembly=\"GRCz11\",\n",
    "                            header=TRUE, mincov = 1,\n",
    "                            treatment = ZF_treatment)"
   ]
  },
  {
   "cell_type": "code",
   "execution_count": 5,
   "id": "b9256dce-3a46-4931-bdd6-7b2626343869",
   "metadata": {
    "collapsed": true,
    "jupyter": {
     "outputs_hidden": true
    },
    "tags": []
   },
   "outputs": [
    {
     "ename": "ERROR",
     "evalue": "Error in save(metyl_data_ZF, \"/workspace/cfngle/results-data/03_extracted_methyl/methyl_data_ZF_bt2.RData\"): objects 'metyl_data_ZF', '/workspace/cfngle/results-data/03_extracted_methyl/methyl_data_ZF_bt2.RData' not found\n",
     "output_type": "error",
     "traceback": [
      "Error in save(metyl_data_ZF, \"/workspace/cfngle/results-data/03_extracted_methyl/methyl_data_ZF_bt2.RData\"): objects 'metyl_data_ZF', '/workspace/cfngle/results-data/03_extracted_methyl/methyl_data_ZF_bt2.RData' not found\nTraceback:\n",
      "1. save(metyl_data_ZF, \"/workspace/cfngle/results-data/03_extracted_methyl/methyl_data_ZF_bt2.RData\")",
      "2. stop(sprintf(ngettext(n, \"object %s not found\", \"objects %s not found\"), \n .     paste(sQuote(list[!ok]), collapse = \", \")), domain = NA)"
     ]
    }
   ],
   "source": [
    "save(methyl_data_ZF, \"/workspace/cfngle/results-data/03_extracted_methyl/methyl_data_ZF_bt2_local.RData\")"
   ]
  },
  {
   "cell_type": "code",
   "execution_count": 13,
   "id": "0b177615-936e-4386-b732-a709cc840a44",
   "metadata": {
    "tags": []
   },
   "outputs": [],
   "source": [
    "JM_file_names <- list.files(\"JM/008.methylkit_BM_local/\", pattern = \"*.txt\")\n",
    "JM_sample_names <- as.list(substr(JM_file_names, start = 1, stop = 6))\n",
    "JM_file_names <- as.list(paste0(\"JM/008.methylkit_BM_local/\", JM_file_names))\n",
    "JM_treatment <- c(rep(c(0, 1), length.out = length(JM_file_names)))\n",
    "methyl_data_JM <- methRead(JM_file_names,\n",
    "                            sample.id = JM_sample_names,\n",
    "                            assembly=\"ASM223467v1\",\n",
    "                            header=TRUE, mincov = 1,\n",
    "                            treatment = JM_treatment)"
   ]
  },
  {
   "cell_type": "code",
   "execution_count": 14,
   "id": "96330d24-b8b5-4b09-b94f-c03f2a62bb9e",
   "metadata": {},
   "outputs": [],
   "source": [
    "save(methyl_data_JM, file = \"/workspace/cfngle/results-data/03_extracted_methyl/methyl_data_JM_bt2_local.RData\")"
   ]
  },
  {
   "cell_type": "code",
   "execution_count": null,
   "id": "3876475e-e54d-4269-9217-ca4852135749",
   "metadata": {},
   "outputs": [],
   "source": []
  }
 ],
 "metadata": {
  "kernelspec": {
   "display_name": "R-3.5.2",
   "language": "R",
   "name": "ir3.5.2"
  },
  "language_info": {
   "codemirror_mode": "r",
   "file_extension": ".r",
   "mimetype": "text/x-r-source",
   "name": "R",
   "pygments_lexer": "r",
   "version": "3.5.2"
  }
 },
 "nbformat": 4,
 "nbformat_minor": 5
}
