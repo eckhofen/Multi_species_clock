{
 "cells": [
  {
   "cell_type": "markdown",
   "id": "4d1f29d1-809b-4e6b-8aac-79fc09282f80",
   "metadata": {},
   "source": [
    "# 00a RRBS data analysis\n",
    "\n",
    "\n",
    "Author: Gabriel Ecker Eckhofen (adapted from Dafni Anastasiadi)\n",
    "Date: Febuary 2024"
   ]
  },
  {
   "cell_type": "code",
   "execution_count": null,
   "id": "f57139d3-47f2-44f6-8491-12363f3603d3",
   "metadata": {
    "tags": []
   },
   "outputs": [],
   "source": [
    "module load conda\n",
    "# Install Entrez Direct\n",
    "conda install -c bioconda entrez-direct\n",
    "y"
   ]
  },
  {
   "cell_type": "code",
   "execution_count": null,
   "id": "58a14287-df70-48e9-84ce-23498633f59b",
   "metadata": {},
   "outputs": [],
   "source": [
    "# Fetch metadata for a specific BioSample ID\n",
    "esearch -db biosample -query SAMNxxxxxx | efetch -format native"
   ]
  },
  {
   "cell_type": "markdown",
   "id": "756caf22-eda3-4bd3-baf1-e4a0d3038865",
   "metadata": {},
   "source": [
    "## 1. Prepare data and directories\n",
    "\n",
    "Data was downloaded with SRAtoolkit "
   ]
  },
  {
   "cell_type": "code",
   "execution_count": null,
   "id": "561d77eb-30d4-41e5-8254-62621e3c5a71",
   "metadata": {
    "tags": []
   },
   "outputs": [],
   "source": [
    "cd /workspace/cfngle/raw-data/JM/raw-reads"
   ]
  },
  {
   "cell_type": "code",
   "execution_count": null,
   "id": "d7f1939d-faa8-4885-8605-0b7b624f3023",
   "metadata": {},
   "outputs": [],
   "source": [
    "find -type f -exec md5sum \"{}\" + > checklist.chk"
   ]
  },
  {
   "cell_type": "code",
   "execution_count": 6,
   "id": "7a8233e4-6b90-499c-a60a-9bcc5c52bfd7",
   "metadata": {
    "collapsed": true,
    "jupyter": {
     "outputs_hidden": true
    },
    "tags": []
   },
   "outputs": [
    {
     "name": "stdout",
     "output_type": "stream",
     "text": [
      "./EC_3/EC_3_FKDN220184500-1A_H5CMTDSX3_L1_1.fq.gz: OK\n",
      "./EC_3/MD5.txt: OK\n",
      "./EC_3/EC_3_FKDN220184500-1A_H5CMTDSX3_L1_2.fq.gz: OK\n",
      "./EC_4/EC_4_FKDN220184501-1A_H5K3KDSX3_L4_1.fq.gz: OK\n",
      "./EC_4/EC_4_FKDN220184501-1A_H5K3KDSX3_L4_2.fq.gz: OK\n",
      "./EC_4/MD5.txt: OK\n",
      "./EC_4/EC_4_FKDN220184501-1A_H5GGLDSX3_L4_2.fq.gz: OK\n",
      "./EC_4/EC_4_FKDN220184501-1A_H5GGLDSX3_L4_1.fq.gz: OK\n",
      "./WC_1/MD5.txt: OK\n",
      "./WC_1/WC_1_FKDN220184493-1A_H5CMTDSX3_L1_2.fq.gz: OK\n",
      "./WC_1/WC_1_FKDN220184493-1A_H5CMTDSX3_L1_1.fq.gz: OK\n",
      "./WC_6/WC_6_FKDN220184497-1A_H5GGJDSX3_L3_1.fq.gz: OK\n",
      "./WC_6/MD5.txt: OK\n",
      "./WC_6/WC_6_FKDN220184497-1A_H5GGJDSX3_L3_2.fq.gz: OK\n",
      "./EC_6/MD5.txt: OK\n",
      "./EC_6/EC_6_FKDN220184503-1A_H5CMTDSX3_L1_1.fq.gz: OK\n",
      "./EC_6/EC_6_FKDN220184503-1A_H5CMTDSX3_L1_2.fq.gz: OK\n",
      "./EC_2/MD5.txt: OK\n",
      "./EC_2/EC_2_FKDN220184499-1A_H5GGLDSX3_L4_1.fq.gz: OK\n",
      "./EC_2/EC_2_FKDN220184499-1A_H5GGLDSX3_L4_2.fq.gz: OK\n",
      "./EC_2/EC_2_FKDN220184499-1A_H5K3KDSX3_L4_2.fq.gz: OK\n",
      "./EC_2/EC_2_FKDN220184499-1A_H5K3KDSX3_L4_1.fq.gz: OK\n",
      "./EC_5/MD5.txt: OK\n",
      "./EC_5/EC_5_FKDN220184502-1A_H5CMTDSX3_L1_1.fq.gz: OK\n",
      "./EC_5/EC_5_FKDN220184502-1A_H5CMTDSX3_L1_2.fq.gz: OK\n",
      "./WC_3/MD5.txt: OK\n",
      "./WC_3/WC_3_FKDN220184495-1A_H5CMTDSX3_L1_1.fq.gz: OK\n",
      "./WC_3/WC_3_FKDN220184495-1A_H5CMTDSX3_L1_2.fq.gz: OK\n",
      "./checklist.chk: FAILED\n",
      "./WC_5/MD5.txt: OK\n",
      "./WC_5/WC_5_FKDN220184496-1A_H5CMTDSX3_L1_2.fq.gz: OK\n",
      "./WC_5/WC_5_FKDN220184496-1A_H5CMTDSX3_L1_1.fq.gz: OK\n",
      "./WC_2/WC_2_FKDN220184494-1A_H5CMTDSX3_L1_2.fq.gz: OK\n",
      "./WC_2/MD5.txt: OK\n",
      "./WC_2/WC_2_FKDN220184494-1A_H5CMTDSX3_L1_1.fq.gz: OK\n",
      "./EC_1/EC_1_FKDN220184498-1A_H5CMTDSX3_L1_2.fq.gz: OK\n",
      "./EC_1/MD5.txt: OK\n",
      "./EC_1/EC_1_FKDN220184498-1A_H5CMTDSX3_L1_1.fq.gz: OK\n",
      "md5sum: WARNING: 1 computed checksum did NOT match\n"
     ]
    },
    {
     "ename": "",
     "evalue": "1",
     "output_type": "error",
     "traceback": []
    }
   ],
   "source": [
    "md5sum -c checklist.chk"
   ]
  },
  {
   "cell_type": "markdown",
   "id": "e30aaf24-3fbe-4346-b0e3-4c197d377e52",
   "metadata": {},
   "source": [
    "### Define Project Variables and create analysis directories:"
   ]
  },
  {
   "cell_type": "code",
   "execution_count": 3,
   "id": "6c13cc36-5ae4-447e-9abe-32c08a774f48",
   "metadata": {},
   "outputs": [],
   "source": [
    "#Create analysis directories and define project variables\n",
    "\n",
    "# Define the user as a variable\n",
    "USER=\"cfngle\"\n",
    "\n",
    "# Define the project directory and temp subdirectory as a variable\n",
    "\n",
    "PROJECT=\"/workspace/$USER/raw-data/JM/raw-reads"
   ]
  },
  {
   "cell_type": "code",
   "execution_count": 8,
   "id": "810a60cc-673f-40fc-abe0-aab516ebcce4",
   "metadata": {},
   "outputs": [
    {
     "name": "stdout",
     "output_type": "stream",
     "text": [
      "mkdir: missing operand\n",
      "Try 'mkdir --help' for more information.\n"
     ]
    }
   ],
   "source": [
    "# Create analysis subdirectories\n",
    "\n",
    "mkdir -p $PROJECT/000.raw\n",
    "mkdir -p $PROJECT/001.fastqc_raw\n",
    "mkdir -p $PROJECT/002.trimmomatic\n",
    "mkdir -p $PROJECT/003.fastq_trimmomatic\n",
    "mkdir -p $PROJECT/004.alignments\n",
    "mkdir -p $PROJECT/005.b.stats_alignments\n",
    "mkdir -p $PROJECT/005.qc_alignments\n",
    "mkdir -p $PROJECT/006.deduplication\n",
    "mkdir -p $PROJECT/007.meth_extraction\n",
    "mkdir -p $PROJECT/008.methylkit\n",
    "mkdir -p $PROJECT/099.test"
   ]
  },
  {
   "cell_type": "code",
   "execution_count": 25,
   "id": "111c44eb-dc86-48ea-bc08-cc4e9c9661e7",
   "metadata": {},
   "outputs": [],
   "source": [
    "cd /workspace/cfndxa/MarsdenObj1/Sequencing_WGBS"
   ]
  },
  {
   "cell_type": "markdown",
   "id": "c5e17deb-bbbb-4bd7-910d-9d431cd550ee",
   "metadata": {},
   "source": [
    "### 1.1 FastQC RAW Data\n",
    "- The input for this step is the raw data from the provider in FASTQ format\n",
    "- The output from this step are the HTML FASTQC Reports"
   ]
  },
  {
   "cell_type": "code",
   "execution_count": 19,
   "id": "6563ed7d-f7b8-467a-9f26-f7b6617aa010",
   "metadata": {
    "tags": []
   },
   "outputs": [
    {
     "name": "stdout",
     "output_type": "stream",
     "text": [
      "/workspace/cfndxa/MarsdenObj1/Sequencing_WGBS/X201SC20071998-Z01-F001/01.RawData\n",
      "/workspace/cfndxa/MarsdenObj1/Sequencing_WGBS/001.fastqc_raw\n",
      "SBATCH_ARGS: --time 01:00:00 --mem 1G\n",
      "JOB_ARRAY_NAME: /workspace/cfndxa/MarsdenObj1/Sequencing_WGBS/001.fastqc_raw/fastqc_raw\n",
      "GROUP_SIZE: 1\n",
      "NUM_COMMANDS: 26\n",
      "Submitted batch job 1059579\n"
     ]
    }
   ],
   "source": [
    "#!/bin/bash\n",
    "\n",
    "PROJECT=\"/workspace/cfndxa/Paua_clock/01_pilot_run\"# Define the location for the QC reports:\n",
    "IN=\"${PROJECT}/X201SC20071998-Z01-F001/01.RawData\"\n",
    "OUT=\"${PROJECT}/001.fastqc_raw\"\n",
    "\n",
    "# Define the list of files to process:\n",
    "FILES=`find -type f -name \"*.fq.gz\"`\n",
    "\n",
    "# Load the FastQC module:\n",
    "module load FastQC\n",
    "\n",
    "for file in $FILES\n",
    "    do\n",
    "        COMMAND=\"fastqc --nogroup -q -t 2 -o ${OUT} ${file}\"\n",
    "        echo $COMMAND\n",
    "done | abatch -j ${OUT}/fastqc_raw --time 01:00:00 --mem 1G | sbatch"
   ]
  },
  {
   "cell_type": "code",
   "execution_count": 20,
   "id": "0908f545-c305-4531-b535-a3a61771e65e",
   "metadata": {},
   "outputs": [
    {
     "name": "stdout",
     "output_type": "stream",
     "text": [
      "** INFO ** : singularity has been deprecated - please use apptainer in place.\n",
      "\n",
      "Loading \u001b[1mmultiqc/1.11\u001b[22m\n",
      "  \u001b[94mLoading requirement\u001b[0m: singularity/3.10.3\n"
     ]
    }
   ],
   "source": [
    "module load multiqc"
   ]
  },
  {
   "cell_type": "code",
   "execution_count": 29,
   "id": "437edb0f-7d48-4a0e-9d2f-fcb49d2a2904",
   "metadata": {},
   "outputs": [
    {
     "name": "stdout",
     "output_type": "stream",
     "text": [
      "\n",
      "  \u001b[34m/\u001b[0m\u001b[32m/\u001b[0m\u001b[31m/\u001b[0m \u001b]8;id=1678927475.1725929-866276;https://multiqc.info\u001b\\\u001b[1mMultiQC\u001b[0m\u001b]8;;\u001b\\ 🔍 \u001b[2m| v1.11\u001b[0m\n",
      "\n",
      "\u001b[34m|           multiqc\u001b[0m | \u001b[33mMultiQC Version v1.14 now available!\u001b[0m\n",
      "\u001b[34m|           multiqc\u001b[0m | Report title: Fastqc-Raw\n",
      "\u001b[34m|           multiqc\u001b[0m | Search path : /workspace/cfndxa/MarsdenObj1/Sequencing_WGBS/001.fastqc_raw\n",
      "\u001b[2K\u001b[34m|\u001b[0m         \u001b[34msearching\u001b[0m | \u001b[90m━━━━━━━━━━━━━━━━━━━━━━━━━━━━━━━━━━━━━━━━\u001b[0m \u001b[35m100%\u001b[0m \u001b[32m105/105\u001b[0m  0m[0m  \n",
      "\u001b[?25h\u001b[34m|            fastqc\u001b[0m | Found 26 reports\n",
      "\u001b[34m|           multiqc\u001b[0m | Compressing plot data\n",
      "\u001b[34m|           multiqc\u001b[0m | Report      : 001.fastqc_raw/Fastqc-Raw_multiqc_report.html\n",
      "\u001b[34m|           multiqc\u001b[0m | Data        : 001.fastqc_raw/Fastqc-Raw_multiqc_report_data\n",
      "\u001b[34m|           multiqc\u001b[0m | MultiQC complete\n"
     ]
    }
   ],
   "source": [
    "multiqc 001.fastqc_raw -o 001.fastqc_raw -i Fastqc-Raw"
   ]
  },
  {
   "cell_type": "markdown",
   "id": "50e04741-aff4-4af1-9279-0d6d60f29ae8",
   "metadata": {},
   "source": [
    "## 2. Trimming"
   ]
  },
  {
   "cell_type": "code",
   "execution_count": 34,
   "id": "5a155bfd-5e13-4f05-a07e-b71ffc78bfc4",
   "metadata": {
    "tags": []
   },
   "outputs": [
    {
     "name": "stdout",
     "output_type": "stream",
     "text": [
      "EC_1 EC_2 EC_3 EC_4 EC_5 EC_6 WC_1 WC_2 WC_3 WC_5 WC_6\n",
      "SBATCH_ARGS: --time 01:00:00 --mem 1G\n",
      "JOB_ARRAY_NAME: /workspace/cfndxa/MarsdenObj1/Sequencing_WGBS/002.trimmomatic/trimmomatic-logs\n",
      "GROUP_SIZE: 1\n",
      "NUM_COMMANDS: 11\n",
      "Submitted batch job 1059719\n"
     ]
    }
   ],
   "source": [
    "#!/bin/bash\n",
    "\n",
    "PROJECT=\"/workspace/cfndxa/Paua_clock/01_pilot_run\"# Define the location for the QC reports:\n",
    "IN=\"${PROJECT}/000.raw/merged\"\n",
    "OUT=\"${PROJECT}/002.trimmomatic\"\n",
    "UNPAIRED=\"${OUT}/unpaired\"\n",
    "\n",
    "mkdir -p $IN\n",
    "mkdir -p $OUT\n",
    "mkdir -p $UNPAIRED\n",
    "\n",
    "# Set the path to the adapter file:\n",
    "CLIP=\"${OUT}/adapters.fasta\"\n",
    "# Get the files to trim:\n",
    "# Use echo statements to be sure that the results from awk are what you really want...\n",
    "FILES=`basename -a ${IN}/*.fq.gz | sed 's/_[1,2].fq.gz//g'|sort -u `\n",
    "#FILES=`ls ${IN}/*.fastq | awk -F'[_ ]' '{print $1\"_\"$2\"_\"$3\"_\"$4\"_\"$5\"_\"$6}' | sort -u`\n",
    "\n",
    "echo $FILES\n",
    "module load Trimmomatic\n",
    "\n",
    "for FILE in $FILES\n",
    "     do\n",
    "        In_File1=${IN}/${FILE}_1.fq.gz\n",
    "        In_File2=${IN}/${FILE}_2.fq.gz\n",
    "        echo $In_File1\n",
    "        echo $In_File2\n",
    "        Out_PAIRED_1=${OUT}/${FILE}_trimmomatic_R1.fastq\n",
    "        Out_UNPAIRED_1=${UNPAIRED}/${FILE}_trimmomatic_unpaired_1.fastq\n",
    "        Out_PAIRED_2=${OUT}/${FILE}_trimmomatic_R2.fastq\n",
    "        Out_UNPAIRED_2=${UNPAIRED}/${FILE}_trimmomatic_unpaired_2.fastq\n",
    "  #      echo $Out_PAIRED_1\n",
    "  #      echo $Out_UNPAIRED_1\n",
    "  #      echo $Out_PAIRED_2\n",
    "  #      echo $Out_UNPAIRED_2\n",
    "        COMMAND=\"java -jar -Xms8G -Xmx8G \\\n",
    "                 ${TRIMMOMATIC} PE -threads 3 \\\n",
    "                 ${In_File1} ${In_File2} \\\n",
    "                 ${Out_PAIRED_1} ${Out_UNPAIRED_1} ${Out_PAIRED_2} ${Out_UNPAIRED_2} \\\n",
    "                 ILLUMINACLIP:${CLIP}:2:30:10 SLIDINGWINDOW:5:20 MINLEN:50 HEADCROP:10 LEADING:5 TRAILING:5\" # headcrop suggested by Novogene due to library construction protocol\n",
    "      # echo $COMMAND\n",
    "done #| abatch -j ${OUT}/trimmomatic-logs --time 01:00:00 --mem 1G | sbatch"
   ]
  },
  {
   "cell_type": "markdown",
   "id": "1f93e76c-40f1-4c3b-9466-c6eaa788cd00",
   "metadata": {},
   "source": [
    "### 2.1 FastQC TRIMMED Data\n",
    "- The input for this step is the raw data from the provider in FASTQ format\n",
    "- The output from this step are the HTML FASTQC Reports"
   ]
  },
  {
   "cell_type": "code",
   "execution_count": 4,
   "id": "51ce841f-d25c-452a-be07-537f33193bbc",
   "metadata": {
    "tags": []
   },
   "outputs": [
    {
     "name": "stdout",
     "output_type": "stream",
     "text": [
      "SBATCH_ARGS: --time 01:00:00 --mem 1G\n",
      "JOB_ARRAY_NAME: /workspace/cfndxa/MarsdenObj1/Sequencing_WGBS/003.fastq_trimmomatic/fastqc-trimmomatic-logs\n",
      "GROUP_SIZE: 1\n",
      "NUM_COMMANDS: 22\n",
      "Submitted batch job 1061325\n"
     ]
    }
   ],
   "source": [
    " #!/bin/bash\n",
    "\n",
    "PROJECT=\"/workspace/cfndxa/Paua_clock/01_pilot_run\"# Define the location for the QC reports:\n",
    "# Define the location for the QC reports:\n",
    "IN=\"${PROJECT}/002.trimmomatic\"\n",
    "OUT=\"${PROJECT}/003.fastq_trimmomatic\"\n",
    "\n",
    "# Define the list of files to process:\n",
    "FILES=`ls ${IN}/*.fastq`\n",
    "\n",
    "# Load the FastQC module:\n",
    "module load FastQC\n",
    "\n",
    "for file in $FILES\n",
    "    do\n",
    "        COMMAND=\"fastqc --nogroup -q -t 2 -o ${OUT} ${file}\"\n",
    "        echo $COMMAND\n",
    "done | abatch -j ${OUT}/fastqc-trimmomatic-logs --time 01:00:00 --mem 1G | sbatch"
   ]
  },
  {
   "cell_type": "code",
   "execution_count": 6,
   "id": "165399e1-0c53-4375-9f83-ef419f9a256f",
   "metadata": {},
   "outputs": [
    {
     "name": "stdout",
     "output_type": "stream",
     "text": [
      "** INFO ** : singularity has been deprecated - please use apptainer in place.\n",
      "\n",
      "Loading \u001b[1mmultiqc/1.11\u001b[22m\n",
      "  \u001b[94mLoading requirement\u001b[0m: singularity/3.10.3\n"
     ]
    }
   ],
   "source": [
    "module load multiqc"
   ]
  },
  {
   "cell_type": "code",
   "execution_count": 8,
   "id": "aeae0461-94aa-48ef-bc35-44e85d8242ac",
   "metadata": {},
   "outputs": [
    {
     "name": "stdout",
     "output_type": "stream",
     "text": [
      "\n",
      "  \u001b[34m/\u001b[0m\u001b[32m/\u001b[0m\u001b[31m/\u001b[0m \u001b]8;id=1679006215.2262704-625372;https://multiqc.info\u001b\\\u001b[1mMultiQC\u001b[0m\u001b]8;;\u001b\\ 🔍 \u001b[2m| v1.11\u001b[0m\n",
      "\n",
      "\u001b[34m|           multiqc\u001b[0m | \u001b[33mMultiQC Version v1.14 now available!\u001b[0m\n",
      "\u001b[34m|           multiqc\u001b[0m | Report title: Fastqc-Trimmed\n",
      "\u001b[34m|           multiqc\u001b[0m | Search path : /powerplant/workspace/cfndxa/MarsdenObj1/Sequencing_WGBS/003.fastq_trimmomatic\n",
      "\u001b[2K\u001b[34m|\u001b[0m         \u001b[34msearching\u001b[0m | \u001b[90m━━━━━━━━━━━━━━━━━━━━━━━━━━━━━━━━━━━━━━━━\u001b[0m \u001b[35m100%\u001b[0m \u001b[32m87/87\u001b[0m  \u001b[0m0m  \n",
      "\u001b[?25h\u001b[34m|            fastqc\u001b[0m | Found 21 reports\n",
      "\u001b[34m|           multiqc\u001b[0m | Compressing plot data\n",
      "\u001b[34m|           multiqc\u001b[0m | Report      : 003.fastq_trimmomatic/Fastqc-Trimmed_multiqc_report.html\n",
      "\u001b[34m|           multiqc\u001b[0m | Data        : 003.fastq_trimmomatic/Fastqc-Trimmed_multiqc_report_data\n",
      "\u001b[34m|           multiqc\u001b[0m | MultiQC complete\n"
     ]
    }
   ],
   "source": [
    "multiqc 003.fastq_trimmomatic -o 003.fastq_trimmomatic -i Fastqc-Trimmed"
   ]
  },
  {
   "cell_type": "markdown",
   "id": "105a8a9b-d575-4ea9-8651-ab1d2eedc6eb",
   "metadata": {},
   "source": [
    "### 5. Alignment\n",
    "Bismark user guide https://felixkrueger.github.io/Bismark/\n",
    "### 5.1 Preparation of the genome\n",
    "Hake assembly from CNAG. Unpublished and confidential."
   ]
  },
  {
   "cell_type": "code",
   "execution_count": 2,
   "id": "b0d6738f-fcaf-4e38-99f3-71603447c489",
   "metadata": {},
   "outputs": [],
   "source": [
    "cd Hake_genome/Genoma_merluza"
   ]
  },
  {
   "cell_type": "code",
   "execution_count": 12,
   "id": "e7e5d3e0-1ae5-4b58-b0de-0a9686bbb058",
   "metadata": {},
   "outputs": [],
   "source": [
    "grep -e \">\" fMerMel2.1_cnag1.scaffolds.fa | awk 'sub(/^>/, \"\")' | sort -k1 > chromosomes.txt"
   ]
  },
  {
   "cell_type": "code",
   "execution_count": 13,
   "id": "dfb354d0-c0c6-42c8-8fe2-60d1256d78ac",
   "metadata": {
    "collapsed": true,
    "jupyter": {
     "outputs_hidden": true
    },
    "tags": []
   },
   "outputs": [
    {
     "name": "stdout",
     "output_type": "stream",
     "text": [
      "fMerMel2.1_cnag1_Chr1\n",
      "fMerMel2.1_cnag1_Chr10\n",
      "fMerMel2.1_cnag1_Chr11\n",
      "fMerMel2.1_cnag1_Chr12\n",
      "fMerMel2.1_cnag1_Chr13\n",
      "fMerMel2.1_cnag1_Chr14\n",
      "fMerMel2.1_cnag1_Chr15\n",
      "fMerMel2.1_cnag1_Chr16\n",
      "fMerMel2.1_cnag1_Chr16_unloc_1\n",
      "fMerMel2.1_cnag1_Chr16_unloc_2\n"
     ]
    }
   ],
   "source": [
    "head chromosomes.txt"
   ]
  },
  {
   "cell_type": "code",
   "execution_count": 1,
   "id": "31bdff52-c31e-4e7e-8937-44177045ed93",
   "metadata": {},
   "outputs": [
    {
     "name": "stdout",
     "output_type": "stream",
     "text": [
      "** INFO ** : singularity has been deprecated - please use apptainer in place.\n",
      "\n",
      "Loading \u001b[1mbismark/0.20.0\u001b[22m\n",
      "  \u001b[94mLoading requirement\u001b[0m: singularity/3.10.3\n"
     ]
    }
   ],
   "source": [
    "module load bismark/0.23.0"
   ]
  },
  {
   "cell_type": "code",
   "execution_count": 15,
   "id": "fb0d2214-3c91-4125-a40d-51d0456ee89d",
   "metadata": {
    "collapsed": true,
    "jupyter": {
     "outputs_hidden": true
    },
    "tags": []
   },
   "outputs": [
    {
     "name": "stdout",
     "output_type": "stream",
     "text": [
      "perl: warning: Setting locale failed.\n",
      "perl: warning: Please check that your locale settings:\n",
      "\tLANGUAGE = (unset),\n",
      "\tLC_ALL = (unset),\n",
      "\tLANG = \"en_NZ.UTF-8\"\n",
      "    are supported and installed on your system.\n",
      "perl: warning: Falling back to the standard locale (\"C\").\n",
      "Writing bisulfite genomes out into a single MFA (multi FastA) file\n",
      "\n",
      "Bisulfite Genome Indexer version v0.19.1 (last modified 26 April 2018)\n",
      "\n",
      "Step I - Prepare genome folders - completed\n",
      "\n",
      "\n",
      "Calculating genomic frequencies (this may take several minutes depending on genome size) ...\n",
      "====================================================================================================================================================================\n",
      "Now reading in and storing sequence information of the genome specified in: /workspace/cfndxa/Hake_clock/Hake_genome/Genoma_merluza/\n",
      "\n",
      "chr fMerMel2.1_cnag1_Chr1 (55177781 bp)\n",
      "chr fMerMel2.1_cnag1_Chr2 (50776625 bp)\n",
      "chr fMerMel2.1_cnag1_Chr3 (45020414 bp)\n",
      "chr fMerMel2.1_cnag1_Chr4 (35452080 bp)\n",
      "chr fMerMel2.1_cnag1_Chr7 (33414852 bp)\n",
      "chr fMerMel2.1_cnag1_Chr5 (33356331 bp)\n",
      "chr fMerMel2.1_cnag1_Chr6 (33253109 bp)\n",
      "chr fMerMel2.1_cnag1_Chr8 (32860176 bp)\n",
      "chr fMerMel2.1_cnag1_Chr9 (32531924 bp)\n",
      "chr fMerMel2.1_cnag1_Chr10 (32021586 bp)\n",
      "chr fMerMel2.1_cnag1_Chr11 (31397609 bp)\n",
      "chr fMerMel2.1_cnag1_Chr12 (30968743 bp)\n",
      "chr fMerMel2.1_cnag1_Chr13 (30809883 bp)\n",
      "chr fMerMel2.1_cnag1_Chr14 (30802331 bp)\n",
      "chr fMerMel2.1_cnag1_Chr15 (30368893 bp)\n",
      "chr fMerMel2.1_cnag1_Chr17 (29776308 bp)\n",
      "chr fMerMel2.1_cnag1_Chr18 (29194296 bp)\n",
      "chr fMerMel2.1_cnag1_Chr16 (28829120 bp)\n",
      "chr fMerMel2.1_cnag1_Chr19 (28611363 bp)\n",
      "chr fMerMel2.1_cnag1_Chr20 (28374871 bp)\n",
      "chr fMerMel2.1_cnag1_Chr21 (27346746 bp)\n",
      "chr fMerMel2.1_cnag1_Chr16_unloc_1 (901166 bp)\n",
      "chr fMerMel2.1_cnag1_Chr5_unloc_1 (317500 bp)\n",
      "chr fMerMel2.1_cnag1_Chr6_unloc_1 (254833 bp)\n",
      "chr fMerMel2.1_cnag1_scaffold_38 (198171 bp)\n",
      "chr fMerMel2.1_cnag1_Chr16_unloc_2 (189000 bp)\n",
      "chr fMerMel2.1_cnag1_Chr5_unloc_2 (184715 bp)\n",
      "chr fMerMel2.1_cnag1_Chr6_unloc_2 (183079 bp)\n",
      "chr fMerMel2.1_cnag1_Chr5_unloc_3 (168000 bp)\n",
      "chr fMerMel2.1_cnag1_Chr1_unloc_1 (163803 bp)\n",
      "chr fMerMel2.1_cnag1_Chr4_unloc_1 (150714 bp)\n",
      "chr fMerMel2.1_cnag1_scaffold_46 (146535 bp)\n",
      "chr fMerMel2.1_cnag1_scaffold_47 (142546 bp)\n",
      "chr fMerMel2.1_cnag1_Chr5_unloc_4 (136715 bp)\n",
      "chr fMerMel2.1_cnag1_Chr1_unloc_2 (128000 bp)\n",
      "chr fMerMel2.1_cnag1_scaffold_51 (127531 bp)\n",
      "chr fMerMel2.1_cnag1_Chr9_unloc_1 (122420 bp)\n",
      "chr fMerMel2.1_cnag1_Chr16_unloc_3 (117390 bp)\n",
      "chr fMerMel2.1_cnag1_Chr2_unloc_1 (107405 bp)\n",
      "chr fMerMel2.1_cnag1_scaffold_55 (94000 bp)\n",
      "chr fMerMel2.1_cnag1_scaffold_56 (88000 bp)\n",
      "chr fMerMel2.1_cnag1_scaffold_57 (84000 bp)\n",
      "chr fMerMel2.1_cnag1_scaffold_58 (80000 bp)\n",
      "chr fMerMel2.1_cnag1_scaffold_60 (71832 bp)\n",
      "chr fMerMel2.1_cnag1_scaffold_61 (71578 bp)\n",
      "chr fMerMel2.1_cnag1_scaffold_62 (66153 bp)\n",
      "chr fMerMel2.1_cnag1_scaffold_63 (65306 bp)\n",
      "chr fMerMel2.1_cnag1_scaffold_64 (65206 bp)\n",
      "chr fMerMel2.1_cnag1_scaffold_65 (64150 bp)\n",
      "chr fMerMel2.1_cnag1_scaffold_66 (60000 bp)\n",
      "chr fMerMel2.1_cnag1_scaffold_67 (57219 bp)\n",
      "chr fMerMel2.1_cnag1_scaffold_68 (57037 bp)\n",
      "chr fMerMel2.1_cnag1_scaffold_69 (55112 bp)\n",
      "chr fMerMel2.1_cnag1_scaffold_70 (54687 bp)\n",
      "chr fMerMel2.1_cnag1_scaffold_71 (53000 bp)\n",
      "chr fMerMel2.1_cnag1_scaffold_72 (52227 bp)\n",
      "chr fMerMel2.1_cnag1_scaffold_73 (50306 bp)\n",
      "chr fMerMel2.1_cnag1_scaffold_74 (50000 bp)\n",
      "chr fMerMel2.1_cnag1_scaffold_75 (49570 bp)\n",
      "chr fMerMel2.1_cnag1_scaffold_76 (33204 bp)\n",
      "chr fMerMel2.1_cnag1_scaffold_77 (22741 bp)\n",
      "chr fMerMel2.1_cnag1_scaffold_78 (19000 bp)\n",
      "\n",
      "Processing chromosome >> fMerMel2.1_cnag1_Chr4_unloc_1 <<\n",
      "Processing chromosome >> fMerMel2.1_cnag1_scaffold_56 <<\n",
      "Processing chromosome >> fMerMel2.1_cnag1_Chr14 <<\n",
      "Processing chromosome >> fMerMel2.1_cnag1_Chr16_unloc_1 <<\n",
      "Processing chromosome >> fMerMel2.1_cnag1_scaffold_66 <<\n",
      "Processing chromosome >> fMerMel2.1_cnag1_Chr15 <<\n",
      "Processing chromosome >> fMerMel2.1_cnag1_scaffold_78 <<\n",
      "Processing chromosome >> fMerMel2.1_cnag1_Chr8 <<\n",
      "Processing chromosome >> fMerMel2.1_cnag1_Chr6 <<\n",
      "Processing chromosome >> fMerMel2.1_cnag1_Chr21 <<\n",
      "Processing chromosome >> fMerMel2.1_cnag1_Chr2_unloc_1 <<\n",
      "Processing chromosome >> fMerMel2.1_cnag1_scaffold_63 <<\n",
      "Processing chromosome >> fMerMel2.1_cnag1_Chr3 <<\n",
      "Processing chromosome >> fMerMel2.1_cnag1_Chr5_unloc_4 <<\n",
      "Processing chromosome >> fMerMel2.1_cnag1_Chr10 <<\n",
      "Processing chromosome >> fMerMel2.1_cnag1_scaffold_38 <<\n",
      "Processing chromosome >> fMerMel2.1_cnag1_scaffold_75 <<\n",
      "Processing chromosome >> fMerMel2.1_cnag1_scaffold_64 <<\n",
      "Processing chromosome >> fMerMel2.1_cnag1_scaffold_72 <<\n",
      "Processing chromosome >> fMerMel2.1_cnag1_scaffold_51 <<\n",
      "Processing chromosome >> fMerMel2.1_cnag1_scaffold_69 <<\n",
      "Processing chromosome >> fMerMel2.1_cnag1_Chr19 <<\n",
      "Processing chromosome >> fMerMel2.1_cnag1_Chr9 <<\n",
      "Processing chromosome >> fMerMel2.1_cnag1_Chr11 <<\n",
      "Processing chromosome >> fMerMel2.1_cnag1_Chr20 <<\n",
      "Processing chromosome >> fMerMel2.1_cnag1_scaffold_68 <<\n",
      "Processing chromosome >> fMerMel2.1_cnag1_Chr9_unloc_1 <<\n",
      "Processing chromosome >> fMerMel2.1_cnag1_scaffold_67 <<\n",
      "Processing chromosome >> fMerMel2.1_cnag1_Chr5_unloc_2 <<\n",
      "Processing chromosome >> fMerMel2.1_cnag1_Chr6_unloc_1 <<\n",
      "Processing chromosome >> fMerMel2.1_cnag1_Chr13 <<\n",
      "Processing chromosome >> fMerMel2.1_cnag1_Chr16_unloc_3 <<\n",
      "Processing chromosome >> fMerMel2.1_cnag1_scaffold_58 <<\n",
      "Processing chromosome >> fMerMel2.1_cnag1_scaffold_57 <<\n",
      "Processing chromosome >> fMerMel2.1_cnag1_Chr12 <<\n",
      "Processing chromosome >> fMerMel2.1_cnag1_Chr2 <<\n",
      "Processing chromosome >> fMerMel2.1_cnag1_scaffold_71 <<\n",
      "Processing chromosome >> fMerMel2.1_cnag1_Chr1_unloc_1 <<\n",
      "Processing chromosome >> fMerMel2.1_cnag1_Chr1_unloc_2 <<\n",
      "Processing chromosome >> fMerMel2.1_cnag1_Chr16 <<\n",
      "Processing chromosome >> fMerMel2.1_cnag1_scaffold_73 <<\n",
      "Processing chromosome >> fMerMel2.1_cnag1_scaffold_62 <<\n",
      "Processing chromosome >> fMerMel2.1_cnag1_Chr17 <<\n",
      "Processing chromosome >> fMerMel2.1_cnag1_scaffold_65 <<\n",
      "Processing chromosome >> fMerMel2.1_cnag1_scaffold_47 <<\n",
      "Processing chromosome >> fMerMel2.1_cnag1_Chr1 <<\n",
      "Processing chromosome >> fMerMel2.1_cnag1_scaffold_46 <<\n",
      "Processing chromosome >> fMerMel2.1_cnag1_Chr7 <<\n",
      "Processing chromosome >> fMerMel2.1_cnag1_scaffold_61 <<\n",
      "Processing chromosome >> fMerMel2.1_cnag1_Chr18 <<\n",
      "Processing chromosome >> fMerMel2.1_cnag1_Chr5 <<\n",
      "Processing chromosome >> fMerMel2.1_cnag1_scaffold_60 <<\n",
      "Processing chromosome >> fMerMel2.1_cnag1_Chr5_unloc_1 <<\n",
      "Processing chromosome >> fMerMel2.1_cnag1_scaffold_70 <<\n",
      "Processing chromosome >> fMerMel2.1_cnag1_Chr5_unloc_3 <<\n",
      "Processing chromosome >> fMerMel2.1_cnag1_Chr16_unloc_2 <<\n",
      "Processing chromosome >> fMerMel2.1_cnag1_scaffold_77 <<\n",
      "Processing chromosome >> fMerMel2.1_cnag1_Chr6_unloc_2 <<\n",
      "Processing chromosome >> fMerMel2.1_cnag1_scaffold_76 <<\n",
      "Processing chromosome >> fMerMel2.1_cnag1_scaffold_55 <<\n",
      "Processing chromosome >> fMerMel2.1_cnag1_scaffold_74 <<\n",
      "Processing chromosome >> fMerMel2.1_cnag1_Chr4 <<\n",
      "Writing genomic nucleotide frequencies to the file >/workspace/cfndxa/Hake_clock/Hake_genome/Genoma_merluza/genomic_nucleotide_frequencies.txt< for future re-use\n",
      "Writing count of (di-)nucleotide: A\t196302152\n",
      "Writing count of (di-)nucleotide: AA\t54138017\n",
      "Writing count of (di-)nucleotide: AC\t46487910\n",
      "Writing count of (di-)nucleotide: AG\t45583225\n",
      "Writing count of (di-)nucleotide: AT\t50092937\n",
      "Writing count of (di-)nucleotide: C\t161397773\n",
      "Writing count of (di-)nucleotide: CA\t54843710\n",
      "Writing count of (di-)nucleotide: CC\t39341466\n",
      "Writing count of (di-)nucleotide: CG\t21533297\n",
      "Writing count of (di-)nucleotide: CT\t45679258\n",
      "Writing count of (di-)nucleotide: G\t161278401\n",
      "Writing count of (di-)nucleotide: GA\t42477620\n",
      "Writing count of (di-)nucleotide: GC\t33016534\n",
      "Writing count of (di-)nucleotide: GG\t39295088\n",
      "Writing count of (di-)nucleotide: GT\t46489095\n",
      "Writing count of (di-)nucleotide: T\t196452166\n",
      "Writing count of (di-)nucleotide: TA\t44842746\n",
      "Writing count of (di-)nucleotide: TC\t42551796\n",
      "Writing count of (di-)nucleotide: TG\t54866743\n",
      "Writing count of (di-)nucleotide: TT\t54190804\n",
      "Finished processing genomic nucleotide frequencies\n",
      "\n",
      "\n",
      "Total number of conversions performed:\n",
      "C->T:\t161397773\n",
      "G->A:\t161278401\n",
      "\n",
      "Step II - Genome bisulfite conversions - completed\n",
      "\n",
      "\n",
      "Bismark Genome Preparation - Step III: Launching the Bowtie 2 indexer\n",
      "Please be aware that this process can - depending on genome size - take several hours!\n",
      "Settings:\n",
      "  Output files: \"BS_CT.*.bt2\"\n",
      "  Line rate: 6 (line is 64 bytes)\n",
      "  Lines per side: 1 (side is 64 bytes)\n",
      "  Offset rate: 4 (one in 16)\n",
      "  FTable chars: 10\n",
      "  Strings: unpacked\n",
      "  Max bucket size: default\n",
      "  Max bucket size, sqrt multiplier: default\n",
      "  Max bucket size, len divisor: 4\n",
      "  Difference-cover sample period: 1024\n",
      "  Endianness: little\n",
      "  Actual local endianness: little\n",
      "  Sanity checking: disabled\n",
      "  Assertions: disabled\n",
      "  Random seed: 0\n",
      "  Sizeofs: void*:8, int:4, long:8, size_t:8\n",
      "Input files DNA, FASTA:\n",
      "  genome_mfa.CT_conversion.fa\n",
      "Building a SMALL index\n",
      "Reading reference sizes\n",
      "Settings:\n",
      "  Output files: \"BS_GA.*.bt2\"\n",
      "  Line rate: 6 (line is 64 bytes)\n",
      "  Lines per side: 1 (side is 64 bytes)\n",
      "  Offset rate: 4 (one in 16)\n",
      "  FTable chars: 10\n",
      "  Strings: unpacked\n",
      "  Max bucket size: default\n",
      "  Max bucket size, sqrt multiplier: default\n",
      "  Max bucket size, len divisor: 4\n",
      "  Difference-cover sample period: 1024\n",
      "  Endianness: little\n",
      "  Actual local endianness: little\n",
      "  Sanity checking: disabled\n",
      "  Assertions: disabled\n",
      "  Random seed: 0\n",
      "  Sizeofs: void*:8, int:4, long:8, size_t:8\n",
      "Input files DNA, FASTA:\n",
      "  genome_mfa.GA_conversion.fa\n",
      "Building a SMALL index\n",
      "Reading reference sizes\n",
      "  Time reading reference sizes: 00:00:06\n",
      "Calculating joined length\n",
      "Writing header\n",
      "Reserving space for joined string\n",
      "Joining reference sequences\n",
      "  Time reading reference sizes: 00:00:06\n",
      "Calculating joined length\n",
      "Writing header\n",
      "Reserving space for joined string\n",
      "Joining reference sequences\n",
      "  Time to join reference sequences: 00:00:03\n",
      "bmax according to bmaxDivN setting: 178857623\n",
      "Using parameters --bmax 134143218 --dcv 1024\n",
      "  Doing ahead-of-time memory usage test\n",
      "  Time to join reference sequences: 00:00:03\n",
      "bmax according to bmaxDivN setting: 178857623\n",
      "Using parameters --bmax 134143218 --dcv 1024\n",
      "  Doing ahead-of-time memory usage test\n",
      "  Passed!  Constructing with these parameters: --bmax 134143218 --dcv 1024\n",
      "Constructing suffix-array element generator\n",
      "Building DifferenceCoverSample\n",
      "  Building sPrime\n",
      "  Passed!  Constructing with these parameters: --bmax 134143218 --dcv 1024\n",
      "Constructing suffix-array element generator\n",
      "Building DifferenceCoverSample\n",
      "  Building sPrime\n",
      "  Building sPrimeOrder\n",
      "  Building sPrimeOrder\n",
      "  V-Sorting samples\n",
      "  V-Sorting samples\n",
      "  V-Sorting samples time: 00:00:21\n",
      "  Allocating rank array\n",
      "  Ranking v-sort output\n",
      "  V-Sorting samples time: 00:00:21\n",
      "  Allocating rank array\n",
      "  Ranking v-sort output\n",
      "  Ranking v-sort output time: 00:00:05\n",
      "  Invoking Larsson-Sadakane on ranks\n",
      "  Ranking v-sort output time: 00:00:05\n",
      "  Invoking Larsson-Sadakane on ranks\n",
      "  Invoking Larsson-Sadakane on ranks time: 00:00:08\n",
      "  Sanity-checking and returning\n",
      "Building samples\n",
      "Reserving space for 12 sample suffixes\n",
      "Generating random suffixes\n",
      "QSorting 12 sample offsets, eliminating duplicates\n",
      "QSorting sample offsets, eliminating duplicates time: 00:00:00\n",
      "Multikey QSorting 12 samples\n",
      "  (Using difference cover)\n",
      "  Multikey QSorting samples time: 00:00:00\n",
      "Calculating bucket sizes\n",
      "Splitting and merging\n",
      "  Splitting and merging time: 00:00:00\n",
      "Avg bucket size: 7.1543e+08 (target: 134143217)\n",
      "Converting suffix-array elements to index image\n",
      "Allocating ftab, absorbFtab\n",
      "Entering Ebwt loop\n",
      "Getting block 1 of 1\n",
      "  No samples; assembling all-inclusive block\n",
      "  Invoking Larsson-Sadakane on ranks time: 00:00:08\n",
      "  Sanity-checking and returning\n",
      "Building samples\n",
      "Reserving space for 12 sample suffixes\n",
      "Generating random suffixes\n",
      "QSorting 12 sample offsets, eliminating duplicates\n",
      "QSorting sample offsets, eliminating duplicates time: 00:00:00\n",
      "Multikey QSorting 12 samples\n",
      "  (Using difference cover)\n",
      "  Multikey QSorting samples time: 00:00:00\n",
      "Calculating bucket sizes\n",
      "Splitting and merging\n",
      "  Splitting and merging time: 00:00:00\n",
      "Avg bucket size: 7.1543e+08 (target: 134143217)\n",
      "Converting suffix-array elements to index image\n",
      "Allocating ftab, absorbFtab\n",
      "Entering Ebwt loop\n",
      "Getting block 1 of 1\n",
      "  No samples; assembling all-inclusive block\n",
      "  Sorting block of length 715430492 for bucket 1\n",
      "  (Using difference cover)\n",
      "  Sorting block of length 715430492 for bucket 1\n",
      "  (Using difference cover)\n",
      "  Sorting block time: 00:08:18\n",
      "Returning block of 715430493 for bucket 1\n",
      "Exited Ebwt loop\n",
      "fchr[A]: 0\n",
      "fchr[C]: 357580553\n",
      "fchr[G]: 518978326\n",
      "fchr[T]: 518978326\n",
      "fchr[$]: 715430492\n",
      "Exiting Ebwt::buildToDisk()\n",
      "Returning from initFromVector\n",
      "Wrote 242676999 bytes to primary EBWT file: BS_GA.1.bt2\n",
      "Wrote 178857628 bytes to secondary EBWT file: BS_GA.2.bt2\n",
      "Re-opening _in1 and _in2 as input streams\n",
      "Returning from Ebwt constructor\n",
      "Headers:\n",
      "    len: 715430492\n",
      "    bwtLen: 715430493\n",
      "    sz: 178857623\n",
      "    bwtSz: 178857624\n",
      "    lineRate: 6\n",
      "    offRate: 4\n",
      "    offMask: 0xfffffff0\n",
      "    ftabChars: 10\n",
      "    eftabLen: 20\n",
      "    eftabSz: 80\n",
      "    ftabLen: 1048577\n",
      "    ftabSz: 4194308\n",
      "    offsLen: 44714406\n",
      "    offsSz: 178857624\n",
      "    lineSz: 64\n",
      "    sideSz: 64\n",
      "    sideBwtSz: 48\n",
      "    sideBwtLen: 192\n",
      "    numSides: 3726201\n",
      "    numLines: 3726201\n",
      "    ebwtTotLen: 238476864\n",
      "    ebwtTotSz: 238476864\n",
      "    color: 0\n",
      "    reverse: 0\n",
      "Total time for call to driver() for forward index: 00:10:45\n",
      "Reading reference sizes\n",
      "  Time reading reference sizes: 00:00:04\n",
      "Calculating joined length\n",
      "Writing header\n",
      "Reserving space for joined string\n",
      "Joining reference sequences\n",
      "  Time to join reference sequences: 00:00:03\n",
      "  Time to reverse reference sequence: 00:00:01\n",
      "bmax according to bmaxDivN setting: 178857623\n",
      "Using parameters --bmax 134143218 --dcv 1024\n",
      "  Doing ahead-of-time memory usage test\n",
      "  Passed!  Constructing with these parameters: --bmax 134143218 --dcv 1024\n",
      "Constructing suffix-array element generator\n",
      "Building DifferenceCoverSample\n",
      "  Building sPrime\n",
      "  Building sPrimeOrder\n",
      "  V-Sorting samples\n",
      "  Sorting block time: 00:10:22\n",
      "Returning block of 715430493 for bucket 1\n",
      "  V-Sorting samples time: 00:00:21\n",
      "  Allocating rank array\n",
      "  Ranking v-sort output\n",
      "  Ranking v-sort output time: 00:00:06\n",
      "  Invoking Larsson-Sadakane on ranks\n",
      "  Invoking Larsson-Sadakane on ranks time: 00:00:08\n",
      "  Sanity-checking and returning\n",
      "Building samples\n",
      "Reserving space for 12 sample suffixes\n",
      "Generating random suffixes\n",
      "QSorting 12 sample offsets, eliminating duplicates\n",
      "QSorting sample offsets, eliminating duplicates time: 00:00:00\n",
      "Multikey QSorting 12 samples\n",
      "  (Using difference cover)\n",
      "  Multikey QSorting samples time: 00:00:00\n",
      "Calculating bucket sizes\n",
      "Splitting and merging\n",
      "  Splitting and merging time: 00:00:00\n",
      "Avg bucket size: 7.1543e+08 (target: 134143217)\n",
      "Converting suffix-array elements to index image\n",
      "Allocating ftab, absorbFtab\n",
      "Entering Ebwt loop\n",
      "Getting block 1 of 1\n",
      "  No samples; assembling all-inclusive block\n",
      "  Sorting block of length 715430492 for bucket 1\n",
      "  (Using difference cover)\n",
      "Exited Ebwt loop\n",
      "fchr[A]: 0\n",
      "fchr[C]: 196302152\n",
      "fchr[G]: 196302152\n",
      "fchr[T]: 357580553\n",
      "fchr[$]: 715430492\n",
      "Exiting Ebwt::buildToDisk()\n",
      "Returning from initFromVector\n",
      "Wrote 242676999 bytes to primary EBWT file: BS_CT.1.bt2\n",
      "Wrote 178857628 bytes to secondary EBWT file: BS_CT.2.bt2\n",
      "Re-opening _in1 and _in2 as input streams\n",
      "Returning from Ebwt constructor\n",
      "Headers:\n",
      "    len: 715430492\n",
      "    bwtLen: 715430493\n",
      "    sz: 178857623\n",
      "    bwtSz: 178857624\n",
      "    lineRate: 6\n",
      "    offRate: 4\n",
      "    offMask: 0xfffffff0\n",
      "    ftabChars: 10\n",
      "    eftabLen: 20\n",
      "    eftabSz: 80\n",
      "    ftabLen: 1048577\n",
      "    ftabSz: 4194308\n",
      "    offsLen: 44714406\n",
      "    offsSz: 178857624\n",
      "    lineSz: 64\n",
      "    sideSz: 64\n",
      "    sideBwtSz: 48\n",
      "    sideBwtLen: 192\n",
      "    numSides: 3726201\n",
      "    numLines: 3726201\n",
      "    ebwtTotLen: 238476864\n",
      "    ebwtTotSz: 238476864\n",
      "    color: 0\n",
      "    reverse: 0\n",
      "Total time for call to driver() for forward index: 00:12:53\n",
      "Reading reference sizes\n",
      "  Time reading reference sizes: 00:00:04\n",
      "Calculating joined length\n",
      "Writing header\n",
      "Reserving space for joined string\n",
      "Joining reference sequences\n",
      "  Time to join reference sequences: 00:00:03\n",
      "  Time to reverse reference sequence: 00:00:00\n",
      "bmax according to bmaxDivN setting: 178857623\n",
      "Using parameters --bmax 134143218 --dcv 1024\n",
      "  Doing ahead-of-time memory usage test\n",
      "  Passed!  Constructing with these parameters: --bmax 134143218 --dcv 1024\n",
      "Constructing suffix-array element generator\n",
      "Building DifferenceCoverSample\n",
      "  Building sPrime\n",
      "  Building sPrimeOrder\n",
      "  V-Sorting samples\n",
      "  V-Sorting samples time: 00:00:22\n",
      "  Allocating rank array\n",
      "  Ranking v-sort output\n",
      "  Ranking v-sort output time: 00:00:05\n",
      "  Invoking Larsson-Sadakane on ranks\n",
      "  Invoking Larsson-Sadakane on ranks time: 00:00:09\n",
      "  Sanity-checking and returning\n",
      "Building samples\n",
      "Reserving space for 12 sample suffixes\n",
      "Generating random suffixes\n",
      "QSorting 12 sample offsets, eliminating duplicates\n",
      "QSorting sample offsets, eliminating duplicates time: 00:00:00\n",
      "Multikey QSorting 12 samples\n",
      "  (Using difference cover)\n",
      "  Multikey QSorting samples time: 00:00:00\n",
      "Calculating bucket sizes\n",
      "Splitting and merging\n",
      "  Splitting and merging time: 00:00:00\n",
      "Avg bucket size: 7.1543e+08 (target: 134143217)\n",
      "Converting suffix-array elements to index image\n",
      "Allocating ftab, absorbFtab\n",
      "Entering Ebwt loop\n",
      "Getting block 1 of 1\n",
      "  No samples; assembling all-inclusive block\n",
      "  Sorting block of length 715430492 for bucket 1\n",
      "  (Using difference cover)\n",
      "  Sorting block time: 00:08:25\n",
      "Returning block of 715430493 for bucket 1\n",
      "Exited Ebwt loop\n",
      "fchr[A]: 0\n",
      "fchr[C]: 357580553\n",
      "fchr[G]: 518978326\n",
      "fchr[T]: 518978326\n",
      "fchr[$]: 715430492\n",
      "Exiting Ebwt::buildToDisk()\n",
      "Returning from initFromVector\n",
      "Wrote 242676999 bytes to primary EBWT file: BS_GA.rev.1.bt2\n",
      "Wrote 178857628 bytes to secondary EBWT file: BS_GA.rev.2.bt2\n",
      "Re-opening _in1 and _in2 as input streams\n",
      "Returning from Ebwt constructor\n",
      "Headers:\n",
      "    len: 715430492\n",
      "    bwtLen: 715430493\n",
      "    sz: 178857623\n",
      "    bwtSz: 178857624\n",
      "    lineRate: 6\n",
      "    offRate: 4\n",
      "    offMask: 0xfffffff0\n",
      "    ftabChars: 10\n",
      "    eftabLen: 20\n",
      "    eftabSz: 80\n",
      "    ftabLen: 1048577\n",
      "    ftabSz: 4194308\n",
      "    offsLen: 44714406\n",
      "    offsSz: 178857624\n",
      "    lineSz: 64\n",
      "    sideSz: 64\n",
      "    sideBwtSz: 48\n",
      "    sideBwtLen: 192\n",
      "    numSides: 3726201\n",
      "    numLines: 3726201\n",
      "    ebwtTotLen: 238476864\n",
      "    ebwtTotSz: 238476864\n",
      "    color: 0\n",
      "    reverse: 1\n",
      "Total time for backward call to driver() for mirror index: 00:10:54\n",
      "  Sorting block time: 00:10:26\n",
      "Returning block of 715430493 for bucket 1\n",
      "Exited Ebwt loop\n",
      "fchr[A]: 0\n",
      "fchr[C]: 196302152\n",
      "fchr[G]: 196302152\n",
      "fchr[T]: 357580553\n",
      "fchr[$]: 715430492\n",
      "Exiting Ebwt::buildToDisk()\n",
      "Returning from initFromVector\n",
      "Wrote 242676999 bytes to primary EBWT file: BS_CT.rev.1.bt2\n",
      "Wrote 178857628 bytes to secondary EBWT file: BS_CT.rev.2.bt2\n",
      "Re-opening _in1 and _in2 as input streams\n",
      "Returning from Ebwt constructor\n",
      "Headers:\n",
      "    len: 715430492\n",
      "    bwtLen: 715430493\n",
      "    sz: 178857623\n",
      "    bwtSz: 178857624\n",
      "    lineRate: 6\n",
      "    offRate: 4\n",
      "    offMask: 0xfffffff0\n",
      "    ftabChars: 10\n",
      "    eftabLen: 20\n",
      "    eftabSz: 80\n",
      "    ftabLen: 1048577\n",
      "    ftabSz: 4194308\n",
      "    offsLen: 44714406\n",
      "    offsSz: 178857624\n",
      "    lineSz: 64\n",
      "    sideSz: 64\n",
      "    sideBwtSz: 48\n",
      "    sideBwtLen: 192\n",
      "    numSides: 3726201\n",
      "    numLines: 3726201\n",
      "    ebwtTotLen: 238476864\n",
      "    ebwtTotSz: 238476864\n",
      "    color: 0\n",
      "    reverse: 1\n",
      "Total time for backward call to driver() for mirror index: 00:12:56\n"
     ]
    }
   ],
   "source": [
    "bismark_genome_preparation --genomic_composition /workspace/cfndxa/Hake_clock/Hake_genome/Genoma_merluza/"
   ]
  },
  {
   "cell_type": "markdown",
   "id": "1c9fecb5-d184-4c1d-a649-f10c6badd0e1",
   "metadata": {},
   "source": [
    "### 5.2 Alignments to genome"
   ]
  },
  {
   "cell_type": "code",
   "execution_count": 16,
   "id": "0f373877-37ea-4284-8322-93f1233f1e50",
   "metadata": {
    "tags": []
   },
   "outputs": [
    {
     "name": "stdout",
     "output_type": "stream",
     "text": [
      "SBATCH_ARGS: --time 5-01:00:00 --mem 50G\n",
      "JOB_ARRAY_NAME: /workspace/cfndxa/Hake_clock/bisRAD_Hake/006.alignments/bis-align\n",
      "GROUP_SIZE: 1\n",
      "NUM_COMMANDS: 95\n",
      "Submitted batch job 2003623\n"
     ]
    }
   ],
   "source": [
    "#!/bin/bash\n",
    "\n",
    "PROJECT=\"/workspace/cfndxa/Hake_clock/bisRAD_Hake\"\n",
    "IN=\"${PROJECT}/004.dup_filter\"\n",
    "OUT=\"${PROJECT}/006.alignments\"\n",
    "GENOME=\"/workspace/cfndxa/Hake_clock/Hake_genome/Genoma_merluza\"\n",
    "LOG=\"${OUT}/logs\"\n",
    "\n",
    "mkdir -p $LOG\n",
    "\n",
    "module load bismark/0.23.0\n",
    "\n",
    "# Use echo statements to be sure that the results from awk are what you really want...\n",
    "FILES=`ls ${IN}/*.fq.gz | awk -F'[_ ]' '{print $1\"_\"$2\"_\"$3\"_\"$4\"_\"$5}' | sort -u`\n",
    "\n",
    "for file in ${FILES}\n",
    "    do\n",
    "        NAME=`basename ${file}`\n",
    "        PREFIX=`echo ${NAME} | awk -F[_] '{print $1\"_\"$2\"_ALIGNMENTS\"}'`\n",
    "        file1=\"${file}_1.1.1.fq.gz\"\n",
    "        file2=\"${file}_2.2.2.fq.gz\"\n",
    "#echo ${PREFIX}\n",
    "#echo ${file1}\n",
    "#echo ${file2}\n",
    "\n",
    "        COMMAND=\"bismark \\\n",
    "                --genome ${GENOME} \\\n",
    "                -1 ${file1} \\\n",
    "                -2 ${file2} \\\n",
    "                --o ${OUT} \\\n",
    "                --non_directional\"\n",
    "       echo $COMMAND\n",
    "\n",
    "done | abatch -j ${OUT}/bis-align --time 5-01:00:00 --mem 50G | sbatch"
   ]
  },
  {
   "cell_type": "code",
   "execution_count": 15,
   "id": "a9e7ee5e-420f-4866-b7e5-cac41b01845c",
   "metadata": {},
   "outputs": [
    {
     "name": "stdout",
     "output_type": "stream",
     "text": [
      "\n",
      "  \u001b[34m/\u001b[0m\u001b[32m/\u001b[0m\u001b[31m/\u001b[0m \u001b]8;id=1694665830.3449497-917231;https://multiqc.info\u001b\\\u001b[1mMultiQC\u001b[0m\u001b]8;;\u001b\\ 🔍 \u001b[2m| v1.11\u001b[0m\n",
      "\n",
      "\u001b[34m|           multiqc\u001b[0m | \u001b[33mMultiQC Version v1.15 now available!\u001b[0m\n",
      "\u001b[34m|           multiqc\u001b[0m | Report title: Alignments_QC\n",
      "\u001b[34m|           multiqc\u001b[0m | Search path : /powerplant/workspace/cfndxa/Hake_clock/bisRAD_Hake/006b.relaxed.alignments\n",
      "\u001b[2K\u001b[34m|\u001b[0m         \u001b[34msearching\u001b[0m | \u001b[90m━━━━━━━━━━━━━━━━━━━━━━━━━━━━━━━━━━━━━━━━\u001b[0m \u001b[35m100%\u001b[0m \u001b[32m381/381\u001b[0m  0m[0m  \n",
      "\u001b[?25h\u001b[34m|           bismark\u001b[0m | Found 95 alignment reports\n",
      "\u001b[34m|           multiqc\u001b[0m | Compressing plot data\n",
      "\u001b[34m|           multiqc\u001b[0m | Report      : 006b.relaxed.alignments/Alignments_QC_multiqc_report.html\n",
      "\u001b[34m|           multiqc\u001b[0m | Data        : 006b.relaxed.alignments/Alignments_QC_multiqc_report_data\n",
      "\u001b[34m|           multiqc\u001b[0m | MultiQC complete\n"
     ]
    }
   ],
   "source": [
    "multiqc 006b.relaxed.alignments/ -i Alignments_QC -o 006b.relaxed.alignments/"
   ]
  },
  {
   "cell_type": "markdown",
   "id": "1be44dfc-32ae-4e64-9145-0844b8093894",
   "metadata": {},
   "source": [
    "### 7. Methylation extraction"
   ]
  },
  {
   "cell_type": "code",
   "execution_count": 17,
   "id": "765ab234-84b0-440b-b723-566a2b9a0836",
   "metadata": {
    "tags": []
   },
   "outputs": [
    {
     "name": "stdout",
     "output_type": "stream",
     "text": [
      "SBATCH_ARGS: --time 5-01:00:00 --mem 50G\n",
      "JOB_ARRAY_NAME: /workspace/cfndxa/Hake_clock/bisRAD_Hake/008.extraction/meth-extract\n",
      "GROUP_SIZE: 1\n",
      "NUM_COMMANDS: 95\n",
      "Submitted batch job 2009829\n"
     ]
    }
   ],
   "source": [
    "#!/bin/bash\n",
    "\n",
    "PROJECT=\"/workspace/cfndxa/Hake_clock/bisRAD_Hake\"\n",
    "IN=\"${PROJECT}/006b.relaxed.alignments\"\n",
    "OUT=\"${PROJECT}/008.extraction\"\n",
    "GENOME=\"/workspace/cfndxa/Hake_clock/Hake_genome/Genoma_merluza\"\n",
    "\n",
    "module load bismark\n",
    "\n",
    "FILES=`ls ${IN}/*.bam`\n",
    "#echo ${FILES}\n",
    "\n",
    "for file in $FILES\n",
    "    do\n",
    "        COMMAND=\"bismark_methylation_extractor \\\n",
    "                ${file} \\\n",
    "                -p \\\n",
    "                --merge_non_CpG \\\n",
    "                --cytosine_report \\\n",
    "                --scaffolds \\\n",
    "                --genome_folder ${GENOME} \\\n",
    "                -o ${OUT}\"\n",
    "       echo $COMMAND\n",
    "\n",
    "done | abatch -j ${OUT}/meth-extract --time 5-01:00:00 --mem 50G | sbatch"
   ]
  },
  {
   "cell_type": "code",
   "execution_count": 5,
   "id": "a79f72c3-4b64-4e6a-99b9-5850e8e030fb",
   "metadata": {},
   "outputs": [],
   "source": [
    "mkdir -p 008b.extraction_nonzero"
   ]
  },
  {
   "cell_type": "code",
   "execution_count": 6,
   "id": "bd0d2f6f-de65-4f03-a15b-ff4cf2fccaa9",
   "metadata": {},
   "outputs": [],
   "source": [
    "cp 008.extraction/*CpG_report.txt 008b.extraction_nonzero"
   ]
  },
  {
   "cell_type": "code",
   "execution_count": 8,
   "id": "a6faa41b-2d40-4b6f-bd31-27f8fe353734",
   "metadata": {
    "tags": []
   },
   "outputs": [],
   "source": [
    "for i in *CpG_report.txt; do awk '{if ($4 > 0) print}' $i > $i.nonzero.txt; done"
   ]
  },
  {
   "cell_type": "code",
   "execution_count": 17,
   "id": "934a5a83-a227-4fc9-a6eb-d392d780dc21",
   "metadata": {
    "tags": []
   },
   "outputs": [],
   "source": [
    "find . -name \"*.txt\" | xargs -n 1 bash extraction_conversion.sh"
   ]
  },
  {
   "cell_type": "code",
   "execution_count": 37,
   "id": "f7068525-3f61-4fb0-8a1f-2a21c1698bc3",
   "metadata": {},
   "outputs": [
    {
     "name": "stdout",
     "output_type": "stream",
     "text": [
      "\n",
      "  \u001b[34m/\u001b[0m\u001b[32m/\u001b[0m\u001b[31m/\u001b[0m \u001b]8;id=1708648365.609395-260321;https://multiqc.info\u001b\\\u001b[1mMultiQC\u001b[0m\u001b]8;;\u001b\\ 🔍 \u001b[2m| v1.11\u001b[0m\n",
      "\n",
      "\u001b[34m|           multiqc\u001b[0m | \u001b[33mMultiQC Version v1.20 now available!\u001b[0m\n",
      "\u001b[34m|           multiqc\u001b[0m | Report title: MethylationExtraction_QC\n",
      "\u001b[34m|           multiqc\u001b[0m | Search path : /workspace/cfndxa/Paua_clock/01_pilot_run/010.extraction\n",
      "\u001b[2K\u001b[34m|\u001b[0m         \u001b[34msearching\u001b[0m | \u001b[90m━━━━━━━━━━━━━━━━━━━━━━━━━━━━━━━━━━━━━━━━\u001b[0m \u001b[35m100%\u001b[0m \u001b[32m433/433\u001b[0m  0m[0m  \n",
      "\u001b[?25h\u001b[34m|           bismark\u001b[0m | Found 24 methextract reports\n",
      "\u001b[34m|           multiqc\u001b[0m | Compressing plot data\n",
      "\u001b[34m|           multiqc\u001b[0m | Report      : 010.extraction/MethylationExtraction_QC_multiqc_report.html\n",
      "\u001b[34m|           multiqc\u001b[0m | Data        : 010.extraction/MethylationExtraction_QC_multiqc_report_data\n",
      "\u001b[34m|           multiqc\u001b[0m | MultiQC complete\n"
     ]
    }
   ],
   "source": [
    "multiqc 010.extraction/ -i MethylationExtraction_QC -o 010.extraction/"
   ]
  }
 ],
 "metadata": {
  "kernelspec": {
   "display_name": "Bash",
   "language": "bash",
   "name": "bash"
  },
  "language_info": {
   "codemirror_mode": "shell",
   "file_extension": ".sh",
   "mimetype": "text/x-sh",
   "name": "bash"
  }
 },
 "nbformat": 4,
 "nbformat_minor": 5
}
