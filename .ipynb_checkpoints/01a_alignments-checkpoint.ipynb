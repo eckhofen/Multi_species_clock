{
 "cells": [
  {
   "cell_type": "code",
   "execution_count": null,
   "id": "2685f3a6-cf6b-4c7d-bac3-37ca3d5157d2",
   "metadata": {},
   "outputs": [],
   "source": [
    "# Alignments for various species to reference genomes\n",
    "\n",
    "# setting up aariables \n",
    "# paths\n",
    "path_raw = /workspace/cfngle/raw-data/\n",
    "path_results = /workspace/cfngle/results-data/\n",
    "\n",
    "# using bowtie to do alignments \n",
    "### OPTIONS FOR BOWTIE ###\n",
    "\"\n",
    "-n: Sets the number of mismatches allowed in an alignment. By default, Bowtie allows up to 2 mismatches.\n",
    "\n",
    "-e: Sets the maximum number of mismatches allowed in the seed alignment. This option is useful for controlling the sensitivity of the alignment.\n",
    "\n",
    "-l: Specifies the length of the seed substrings used for alignment. Smaller seed lengths can result in faster alignment but may reduce sensitivity.\n",
    "\n",
    "-I and -X: Sets the minimum and maximum insert sizes, respectively, for paired-end alignment. These options are useful for filtering out spurious alignments caused by insert size outliers.\n",
    "\n",
    "-a: Performs all valid alignments for each read, rather than just the best alignment. This option can be useful for identifying potential multi-mapping reads.\n",
    "\n",
    "-y: Forces Bowtie to report only uniquely aligned reads. Reads with multiple valid alignments will be reported as unaligned.\n",
    "\n",
    "-m: Sets the maximum number of valid alignments to report for each read. This option is useful for controlling the number of reported alignments, especially for reads with multiple valid alignments.\n",
    "\"\n",
    "\n",
    "bowtie2 -x ${path_raw}ZF/rgenome/bowtie2-index/ZF_bowtie2 -q -U /workspace/cfngle/raw-data/ZF/data/Z101_HL7CKDMXX_CTCGACTT_L002_R1.fastq -S /workspace/cfngle/results-data/ZF_ZF_align.sam"
   ]
  }
 ],
 "metadata": {
  "kernelspec": {
   "display_name": "Bash",
   "language": "bash",
   "name": "bash"
  },
  "language_info": {
   "codemirror_mode": "shell",
   "file_extension": ".sh",
   "mimetype": "text/x-sh",
   "name": "bash"
  }
 },
 "nbformat": 4,
 "nbformat_minor": 5
}
