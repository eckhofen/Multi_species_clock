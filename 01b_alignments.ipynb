{
 "cells": [
  {
   "cell_type": "code",
   "execution_count": 6,
   "id": "2685f3a6-cf6b-4c7d-bac3-37ca3d5157d2",
   "metadata": {
    "collapsed": true,
    "jupyter": {
     "outputs_hidden": true
    },
    "tags": []
   },
   "outputs": [
    {
     "name": "stdout",
     "output_type": "stream",
     "text": [
      "18337 reads; of these:\n",
      "  18337 (100.00%) were unpaired; of these:\n",
      "    18329 (99.96%) aligned 0 times\n",
      "    4 (0.02%) aligned exactly 1 time\n",
      "    4 (0.02%) aligned >1 times\n",
      "0.04% overall alignment rate\n",
      "[M::mm_idx_gen::31.402*1.70] collected minimizers\n",
      "[M::mm_idx_gen::39.414*1.95] sorted minimizers\n",
      "[M::main::39.416*1.95] loaded/built the index for 1923 target sequence(s)\n",
      "[M::mm_mapopt_update::40.801*1.92] mid_occ = 848\n",
      "[M::mm_idx_stat] kmer size: 15; skip: 10; is_hpc: 0; #seq: 1923\n",
      "[M::mm_idx_stat::41.661*1.90] distinct minimizers: 66057654 (43.51% are singletons); average occurrences: 4.867; average spacing: 5.223; total length: 1679203469\n",
      "[M::worker_pipeline::42.111*1.91] mapped 18337 sequences\n",
      "[M::main] Version: 2.22-r1101\n",
      "[M::main] CMD: minimap2 -ax map-ont /workspace/cfngle/raw-data/ZF/rgenome/GCF_000002035.6_GRCz11_genomic.fna /workspace/cfngle/results-data/EH_CpG_200bp.fasta\n",
      "[M::main] Real time: 42.367 sec; CPU: 80.620 sec; Peak RSS: 6.609 GB\n"
     ]
    }
   ],
   "source": [
    "# Alignments for various species to reference genomes\n",
    "\n",
    "# loading modules\n",
    "module load bowtie2\n",
    "module load minimap2 \n",
    "\n",
    "# setting up aariables \n",
    "# paths\n",
    "path_raw=/workspace/cfngle/raw-data/\n",
    "path_results=/workspace/cfngle/results-data/\n",
    "\n",
    "#### BOWTIE2 ##### \n",
    "\n",
    "bowtie2 -x ${path_raw}ZF/rgenome/bowtie2-index/ZF_bowtie2 -f -U ${path_results}EH_CpG_200bp.fasta -S ${path_results}ZF_EH_200_bt2_N_1.sam -N 1\n",
    "\n",
    "#### MINIMAP2 ####\n",
    "\n",
    "minimap2 -ax map-ont ${path_raw}ZF/rgenome/GCF_000002035.6_GRCz11_genomic.fna ${path_results}EH_CpG_200bp.fasta > ${path_results}ZF_EH_200_minimap.sam "
   ]
  },
  {
   "cell_type": "code",
   "execution_count": null,
   "id": "a6903d20-9dbf-45ef-8555-3bba82d40e5b",
   "metadata": {},
   "outputs": [],
   "source": []
  }
 ],
 "metadata": {
  "kernelspec": {
   "display_name": "Bash",
   "language": "bash",
   "name": "bash"
  },
  "language_info": {
   "codemirror_mode": "shell",
   "file_extension": ".sh",
   "mimetype": "text/x-sh",
   "name": "bash"
  }
 },
 "nbformat": 4,
 "nbformat_minor": 5
}
